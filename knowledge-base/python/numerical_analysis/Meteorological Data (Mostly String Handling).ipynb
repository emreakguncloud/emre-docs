{
 "cells": [
  {
   "cell_type": "markdown",
   "id": "94debd35",
   "metadata": {},
   "source": [
    "# Meteorological Data (Mostly String Handling)"
   ]
  },
  {
   "cell_type": "code",
   "execution_count": null,
   "id": "afa57f74",
   "metadata": {},
   "outputs": [],
   "source": [
    "import pandas as pd\n",
    "import numpy as np"
   ]
  },
  {
   "cell_type": "code",
   "execution_count": null,
   "id": "0f5b6b4b",
   "metadata": {},
   "outputs": [
    {
     "data": {
      "text/html": [
       "<div>\n",
       "<style scoped>\n",
       "    .dataframe tbody tr th:only-of-type {\n",
       "        vertical-align: middle;\n",
       "    }\n",
       "\n",
       "    .dataframe tbody tr th {\n",
       "        vertical-align: top;\n",
       "    }\n",
       "\n",
       "    .dataframe thead th {\n",
       "        text-align: right;\n",
       "    }\n",
       "</style>\n",
       "<table border=\"1\" class=\"dataframe\">\n",
       "  <thead>\n",
       "    <tr style=\"text-align: right;\">\n",
       "      <th></th>\n",
       "      <th>timestamp</th>\n",
       "      <th>Basel Temperature [2 m elevation corrected]</th>\n",
       "      <th>Basel Relative Humidity [2 m]</th>\n",
       "      <th>Basel Cloud Cover Total</th>\n",
       "      <th>Basel Sunshine Duration</th>\n",
       "      <th>Basel Shortwave Radiation</th>\n",
       "    </tr>\n",
       "  </thead>\n",
       "  <tbody>\n",
       "    <tr>\n",
       "      <th>0</th>\n",
       "      <td>20220101T0000</td>\n",
       "      <td>6.060245</td>\n",
       "      <td>94.19782</td>\n",
       "      <td>1.5</td>\n",
       "      <td>0.0</td>\n",
       "      <td>0.0</td>\n",
       "    </tr>\n",
       "    <tr>\n",
       "      <th>1</th>\n",
       "      <td>20220101T0100</td>\n",
       "      <td>5.560245</td>\n",
       "      <td>94.83262</td>\n",
       "      <td>3.0</td>\n",
       "      <td>0.0</td>\n",
       "      <td>0.0</td>\n",
       "    </tr>\n",
       "    <tr>\n",
       "      <th>2</th>\n",
       "      <td>20220101T0200</td>\n",
       "      <td>4.630245</td>\n",
       "      <td>96.47203</td>\n",
       "      <td>0.3</td>\n",
       "      <td>0.0</td>\n",
       "      <td>0.0</td>\n",
       "    </tr>\n",
       "    <tr>\n",
       "      <th>3</th>\n",
       "      <td>20220101T0300</td>\n",
       "      <td>3.660245</td>\n",
       "      <td>97.11870</td>\n",
       "      <td>1.2</td>\n",
       "      <td>0.0</td>\n",
       "      <td>0.0</td>\n",
       "    </tr>\n",
       "    <tr>\n",
       "      <th>4</th>\n",
       "      <td>20220101T0400</td>\n",
       "      <td>3.880245</td>\n",
       "      <td>96.16575</td>\n",
       "      <td>1.0</td>\n",
       "      <td>0.0</td>\n",
       "      <td>0.0</td>\n",
       "    </tr>\n",
       "  </tbody>\n",
       "</table>\n",
       "</div>"
      ],
      "text/plain": [
       "       timestamp  Basel Temperature [2 m elevation corrected]  \\\n",
       "0  20220101T0000                                     6.060245   \n",
       "1  20220101T0100                                     5.560245   \n",
       "2  20220101T0200                                     4.630245   \n",
       "3  20220101T0300                                     3.660245   \n",
       "4  20220101T0400                                     3.880245   \n",
       "\n",
       "   Basel Relative Humidity [2 m]  Basel Cloud Cover Total  \\\n",
       "0                       94.19782                      1.5   \n",
       "1                       94.83262                      3.0   \n",
       "2                       96.47203                      0.3   \n",
       "3                       97.11870                      1.2   \n",
       "4                       96.16575                      1.0   \n",
       "\n",
       "   Basel Sunshine Duration  Basel Shortwave Radiation  \n",
       "0                      0.0                        0.0  \n",
       "1                      0.0                        0.0  \n",
       "2                      0.0                        0.0  \n",
       "3                      0.0                        0.0  \n",
       "4                      0.0                        0.0  "
      ]
     },
     "execution_count": 124,
     "metadata": {},
     "output_type": "execute_result"
    }
   ],
   "source": [
    "df = pd.read_csv('01_meteoblue_Basel_20230303T060433.csv',header=9)\n",
    "df.dropna(inplace=True)\n",
    "df.head()"
   ]
  },
  {
   "cell_type": "markdown",
   "id": "9fed0b66",
   "metadata": {},
   "source": [
    "# Calculate the average daily temperature on February, 5th, 2022"
   ]
  },
  {
   "cell_type": "code",
   "execution_count": 125,
   "id": "d4693443",
   "metadata": {},
   "outputs": [
    {
     "name": "stdout",
     "output_type": "stream",
     "text": [
      "Average daily temperature on February 5th 2022: 3.9619120124999996 °C\n"
     ]
    }
   ],
   "source": [
    "feb_5th_2022 = df['timestamp'].str.contains('20220205')\n",
    "feb_5th_2022_data = df[feb_5th_2022].copy()\n",
    "feb_5th_2022_temperature= feb_5th_2022_data[\"Basel Temperature [2 m elevation corrected]\"].to_numpy()\n",
    "\n",
    "print(\"Average daily temperature on February 5th 2022:\",feb_5th_2022_temperature.mean(),\"°C\")"
   ]
  },
  {
   "cell_type": "markdown",
   "id": "dab8aad1",
   "metadata": {},
   "source": [
    "# Find the most cloudy day in January 2022"
   ]
  },
  {
   "cell_type": "code",
   "execution_count": 126,
   "id": "5634ab66",
   "metadata": {},
   "outputs": [
    {
     "name": "stdout",
     "output_type": "stream",
     "text": [
      "Most Cloudy Day : 2 th\n"
     ]
    }
   ],
   "source": [
    "january_2022_filter = df[\"timestamp\"].str.contains(\"202201\")\n",
    "january_2022_data = df[january_2022_filter].copy()\n",
    "january_2022_data[\"day_index\"] = january_2022_data.index // 24\n",
    "daily_cloud = january_2022_data.groupby(\"day_index\")[\"Basel Cloud Cover Total\"].sum()\n",
    "\n",
    "print(\"Most Cloudy Day :\", daily_cloud.idxmax(),\"th\")"
   ]
  },
  {
   "cell_type": "markdown",
   "id": "50492dc6",
   "metadata": {},
   "source": [
    "# Find the most cloudy hour in January 2022"
   ]
  },
  {
   "cell_type": "code",
   "execution_count": 127,
   "id": "97261662",
   "metadata": {},
   "outputs": [
    {
     "name": "stdout",
     "output_type": "stream",
     "text": [
      "Most Cloudy Hour Timestamp: 20220103T0900\n"
     ]
    }
   ],
   "source": [
    "most_cloudy_hour = january_2022_data.loc[january_2022_data[\"Basel Cloud Cover Total\"].idxmax()].timestamp\n",
    "\n",
    "print(\"Most Cloudy Hour Timestamp:\", most_cloudy_hour)"
   ]
  },
  {
   "cell_type": "markdown",
   "id": "7ff79ce5",
   "metadata": {},
   "source": [
    "# Find the most sunny day in 2022"
   ]
  },
  {
   "cell_type": "code",
   "execution_count": 128,
   "id": "c1adbc3e",
   "metadata": {},
   "outputs": [
    {
     "name": "stdout",
     "output_type": "stream",
     "text": [
      "Most Sunny Day: 24 th\n"
     ]
    }
   ],
   "source": [
    "all_2022_filter = df[\"timestamp\"].str.contains(\"202201\")\n",
    "all_2022_data = df[all_2022_filter].copy()\n",
    "all_2022_data[\"day_index\"] = all_2022_data.index // 24\n",
    "daily_sun = all_2022_data.groupby(\"day_index\")[\"Basel Sunshine Duration\"].sum()\n",
    "\n",
    "print(\"Most Sunny Day:\", daily_sun.idxmax(),\"th\")"
   ]
  },
  {
   "cell_type": "markdown",
   "id": "9680d5ff",
   "metadata": {},
   "source": [
    "# Calculate the total radiation energy received in 2002"
   ]
  },
  {
   "cell_type": "code",
   "execution_count": 129,
   "id": "4064c937",
   "metadata": {},
   "outputs": [
    {
     "name": "stdout",
     "output_type": "stream",
     "text": [
      "Total Radiation: 39971.0 W/m²\n"
     ]
    }
   ],
   "source": [
    "print(\"Total Radiation:\", all_2022_data[\"Basel Shortwave Radiation\"].sum(),\"W/m²\") "
   ]
  }
 ],
 "metadata": {
  "kernelspec": {
   "display_name": "Python 3 (ipykernel)",
   "language": "python",
   "name": "python3"
  },
  "language_info": {
   "codemirror_mode": {
    "name": "ipython",
    "version": 3
   },
   "file_extension": ".py",
   "mimetype": "text/x-python",
   "name": "python",
   "nbconvert_exporter": "python",
   "pygments_lexer": "ipython3",
   "version": "3.11.5"
  }
 },
 "nbformat": 4,
 "nbformat_minor": 5
}
